{
 "cells": [
  {
   "cell_type": "code",
   "execution_count": null,
   "metadata": {},
   "outputs": [],
   "source": [
    "# Import Dependencies for Scrapping\n",
    "from bs4 import BeautifulSoup\n",
    "import requests\n",
    "import os\n",
    "\n",
    "# Import Dependencies for data cleasing and SQL load\n",
    "import pandas as pd\n",
    "import sqlite3\n",
    "\n",
    "## Dependencies for GMaps api\n",
    "import json \n",
    "import time\n",
    "import numpy as np\n",
    "from IPython.display import clear_output\n",
    "\n",
    "# Google developer API key\n",
    "from api_key import g_key"
   ]
  },
  {
   "cell_type": "markdown",
   "metadata": {},
   "source": [
    "## 1. Scrap Ranking Page"
   ]
  },
  {
   "cell_type": "code",
   "execution_count": null,
   "metadata": {},
   "outputs": [],
   "source": [
    "# Ranking Page\n",
    "filepath = os.path.join(\"../html files/World University Rankings - Ranking.html\")\n",
    "with open(filepath, encoding='utf-8') as file:\n",
    "    htmlRanking = file.read()"
   ]
  },
  {
   "cell_type": "code",
   "execution_count": null,
   "metadata": {},
   "outputs": [],
   "source": [
    "# Create BeautifulSoup object; parse with 'html.parser'\n",
    "soupRanking = BeautifulSoup(htmlRanking, 'html.parser')"
   ]
  },
  {
   "cell_type": "code",
   "execution_count": null,
   "metadata": {
    "scrolled": false
   },
   "outputs": [],
   "source": [
    "# Retrieve the anchors for all university names\n",
    "anchorTitles = soupRanking.find_all('a', class_='ranking-institution-title')\n",
    "\n",
    "# Create empty list\n",
    "universitiesNames = []\n",
    "\n",
    "# loop over results to get the data\n",
    "for title in anchorTitles:\n",
    "    name = title.text\n",
    "    universitiesNames.append(name)"
   ]
  },
  {
   "cell_type": "code",
   "execution_count": null,
   "metadata": {},
   "outputs": [],
   "source": [
    "# Retrieve the parent divs for locations\n",
    "anchorLocations = soupRanking.find_all('div', class_='location')\n",
    "\n",
    "# Create empty list\n",
    "universitiesLocations = []\n",
    "\n",
    "# Loop over results to get the data\n",
    "for locations in anchorLocations:\n",
    "    country = locations.find('a').text\n",
    "    universitiesLocations.append(country)"
   ]
  },
  {
   "cell_type": "code",
   "execution_count": null,
   "metadata": {},
   "outputs": [],
   "source": [
    "# Retrieve the rows for get stats - Number of Students\n",
    "trRole = soupRanking.find_all('td', class_='stats_number_students')\n",
    "\n",
    "# Create empty list\n",
    "numberStudents = []\n",
    "\n",
    "# Loop over results to get the data\n",
    "for tr in trRole:\n",
    "    number = tr.text\n",
    "    numberStudents.append(number)"
   ]
  },
  {
   "cell_type": "code",
   "execution_count": null,
   "metadata": {},
   "outputs": [],
   "source": [
    "# Retrieve the rows for get stats - Student Staff Ratio\n",
    "trRole = soupRanking.find_all('td', class_='stats stats_student_staff_ratio')\n",
    "\n",
    "# Create empty list\n",
    "studentsStaffRatio = []\n",
    "\n",
    "# Loop over results to get the data\n",
    "for tr in trRole:\n",
    "    ratio = tr.text\n",
    "    studentsStaffRatio.append(ratio)"
   ]
  },
  {
   "cell_type": "code",
   "execution_count": null,
   "metadata": {},
   "outputs": [],
   "source": [
    "# Retrieve the rows for get stats - % of international students\n",
    "trRole = soupRanking.find_all('td', class_='stats stats_pc_intl_students')\n",
    "\n",
    "# Create empty list\n",
    "percIntStudents = []\n",
    "\n",
    "# Loop over results to get the data\n",
    "for tr in trRole:\n",
    "    perc = tr.text\n",
    "    percIntStudents.append(perc)"
   ]
  },
  {
   "cell_type": "code",
   "execution_count": null,
   "metadata": {},
   "outputs": [],
   "source": [
    "# Retrieve the rows for get stats - female/male ratio\n",
    "trRole = soupRanking.find_all('td', class_='stats stats_female_male_ratio')\n",
    "\n",
    "# Create empty list\n",
    "genderRatio = []\n",
    "\n",
    "# Loop over results to get the data\n",
    "for tr in trRole:\n",
    "    ratio = tr.text\n",
    "    genderRatio.append(ratio)"
   ]
  },
  {
   "cell_type": "code",
   "execution_count": null,
   "metadata": {},
   "outputs": [],
   "source": [
    "# Create dictionary\n",
    "\n",
    "rankingTable = {\n",
    "    'ranking' : range(1, len(universitiesNames)+1),\n",
    "    'title' : universitiesNames,\n",
    "    'location' : universitiesLocations,\n",
    "    'number_students' : numberStudents,\n",
    "    'students_staff_ratio' : studentsStaffRatio,\n",
    "    'perc_intl_students' : percIntStudents,\n",
    "    'gender_ratio' : genderRatio\n",
    "}"
   ]
  },
  {
   "cell_type": "code",
   "execution_count": null,
   "metadata": {},
   "outputs": [],
   "source": [
    "# Transform dict to dataframe\n",
    "ranking_df = pd.DataFrame.from_dict(rankingTable)\n",
    "ranking_df"
   ]
  },
  {
   "cell_type": "code",
   "execution_count": null,
   "metadata": {},
   "outputs": [],
   "source": [
    "# To CSV\n",
    "ranking_df.to_csv('../csv files/universities_ranking.csv', header=True, encoding='utf-8-sig')"
   ]
  },
  {
   "cell_type": "markdown",
   "metadata": {},
   "source": [
    "## 2. Scrap Scores Page"
   ]
  },
  {
   "cell_type": "code",
   "execution_count": null,
   "metadata": {},
   "outputs": [],
   "source": [
    "# Scores Page\n",
    "filepath = os.path.join(\"../html files/World University Rankings - Scores.html\")\n",
    "with open(filepath, encoding='utf-8') as file:\n",
    "    htmlScores = file.read()"
   ]
  },
  {
   "cell_type": "code",
   "execution_count": null,
   "metadata": {},
   "outputs": [],
   "source": [
    "# Create BeautifulSoup object; parse with 'html.parser'\n",
    "soupScores = BeautifulSoup(htmlScores, 'html.parser')"
   ]
  },
  {
   "cell_type": "code",
   "execution_count": null,
   "metadata": {},
   "outputs": [],
   "source": [
    "# Retrieve the anchors for all university names\n",
    "anchorTitles = soupScores.find_all('a', class_='ranking-institution-title')\n",
    "\n",
    "# Create empty list\n",
    "universitiesNames = []\n",
    "\n",
    "# loop over results to get the data\n",
    "for title in anchorTitles:\n",
    "    name = title.text\n",
    "    universitiesNames.append(name)"
   ]
  },
  {
   "cell_type": "code",
   "execution_count": null,
   "metadata": {},
   "outputs": [],
   "source": [
    "# Retrieve the parent divs for locations\n",
    "anchorLocations = soupScores.find_all('div', class_='location')\n",
    "\n",
    "# Create empty list\n",
    "universitiesLocations = []\n",
    "\n",
    "# Loop over results to get the data\n",
    "for locations in anchorLocations:\n",
    "    country = locations.find('a').text\n",
    "    universitiesLocations.append(country)"
   ]
  },
  {
   "cell_type": "code",
   "execution_count": null,
   "metadata": {},
   "outputs": [],
   "source": [
    "# Retrieve the rows for get stats - Overall Score\n",
    "trRole = soupScores.find_all('td', class_='scores overall-score')\n",
    "\n",
    "# Create empty list\n",
    "overallScore = []\n",
    "\n",
    "# Loop over results to get the data\n",
    "for tr in trRole:\n",
    "    score = tr.text\n",
    "    overallScore.append(score)"
   ]
  },
  {
   "cell_type": "code",
   "execution_count": null,
   "metadata": {},
   "outputs": [],
   "source": [
    "# Retrieve the rows for get stats - Teaching Score\n",
    "trRole = soupScores.find_all('td', class_='scores teaching-score')\n",
    "\n",
    "# Create empty list\n",
    "teachingScore = []\n",
    "\n",
    "# Loop over results to get the data\n",
    "for tr in trRole:\n",
    "    score = tr.text\n",
    "    teachingScore.append(score)"
   ]
  },
  {
   "cell_type": "code",
   "execution_count": null,
   "metadata": {},
   "outputs": [],
   "source": [
    "# Retrieve the rows for get stats - Research Score\n",
    "trRole = soupScores.find_all('td', class_='scores research-score')\n",
    "\n",
    "# Create empty list\n",
    "researchScore = []\n",
    "\n",
    "# Loop over results to get the data\n",
    "for tr in trRole:\n",
    "    score = tr.text\n",
    "    researchScore.append(score)"
   ]
  },
  {
   "cell_type": "code",
   "execution_count": null,
   "metadata": {},
   "outputs": [],
   "source": [
    "# Retrieve the rows for get stats - Citations Score\n",
    "trRole = soupScores.find_all('td', class_='scores citations-score')\n",
    "\n",
    "# Create empty list\n",
    "citationsScore = []\n",
    "\n",
    "# Loop over results to get the data\n",
    "for tr in trRole:\n",
    "    score = tr.text\n",
    "    citationsScore.append(score)"
   ]
  },
  {
   "cell_type": "code",
   "execution_count": null,
   "metadata": {},
   "outputs": [],
   "source": [
    "# Retrieve the rows for get stats - Industry Income Score\n",
    "trRole = soupScores.find_all('td', class_='scores industry_income-score')\n",
    "\n",
    "# Create empty list\n",
    "industryIncomeScore = []\n",
    "\n",
    "# Loop over results to get the data\n",
    "for tr in trRole:\n",
    "    score = tr.text\n",
    "    industryIncomeScore.append(score)"
   ]
  },
  {
   "cell_type": "code",
   "execution_count": null,
   "metadata": {},
   "outputs": [],
   "source": [
    "# Retrieve the rows for get stats - International Outlook Score\n",
    "trRole = soupScores.find_all('td', class_='scores international_outlook-score')\n",
    "\n",
    "# Create empty list\n",
    "intlOutlookScore = []\n",
    "\n",
    "# Loop over results to get the data\n",
    "for tr in trRole:\n",
    "    score = tr.text\n",
    "    intlOutlookScore.append(score)"
   ]
  },
  {
   "cell_type": "code",
   "execution_count": null,
   "metadata": {},
   "outputs": [],
   "source": [
    "# Create dictionary\n",
    "scoreTable = {\n",
    "    'ranking' : range(1, len(universitiesNames)+1),\n",
    "    'title' : universitiesNames,\n",
    "    'location' : universitiesLocations,\n",
    "    'overall_score' : overallScore,\n",
    "    'teaching_score' : teachingScore,\n",
    "    'research_score' : researchScore,\n",
    "    'citations_score' : citationsScore,\n",
    "    'industry_income_score' : industryIncomeScore,\n",
    "    'intl_outlook_score' : intlOutlookScore\n",
    "}"
   ]
  },
  {
   "cell_type": "code",
   "execution_count": null,
   "metadata": {},
   "outputs": [],
   "source": [
    "# Transform dict to dataframe\n",
    "score_df = pd.DataFrame.from_dict(scoreTable)\n",
    "score_df"
   ]
  },
  {
   "cell_type": "code",
   "execution_count": null,
   "metadata": {},
   "outputs": [],
   "source": [
    "# To CSV\n",
    "score_df.to_csv('../csv files/universities_score.csv', header=True, encoding='utf-8-sig')"
   ]
  },
  {
   "cell_type": "markdown",
   "metadata": {},
   "source": [
    "## 3. Merge"
   ]
  },
  {
   "cell_type": "code",
   "execution_count": null,
   "metadata": {
    "scrolled": false
   },
   "outputs": [],
   "source": [
    "# Concatenate Dataframes\n",
    "universities_df = pd.merge(ranking_df, score_df, on='ranking', how='inner')\n",
    "universities_df.drop(['title_y', 'location_y'], axis=1, inplace=True)\n",
    "universities_df.rename(columns={'title_x' : 'title', 'location_x' : 'location'}, inplace=True)\n",
    "universities_df['number_students'] = universities_df['number_students'].str.replace(',', '').astype(float)\n",
    "universities_df"
   ]
  },
  {
   "cell_type": "markdown",
   "metadata": {},
   "source": [
    "## 4. Use Geocode API to look for Lat/Long/Continent"
   ]
  },
  {
   "cell_type": "code",
   "execution_count": null,
   "metadata": {},
   "outputs": [],
   "source": [
    "# To do so, first we need to add new columns to universities_df, where info is going to be stored\n",
    "# Add columns for lat, lng, continent\n",
    "# Note that we used \"\" to specify initial entry\n",
    "universities_df[\"latitude\"] = \"\"\n",
    "universities_df[\"longitude\"] = \"\"\n",
    "universities_df.head()"
   ]
  },
  {
   "cell_type": "code",
   "execution_count": null,
   "metadata": {},
   "outputs": [],
   "source": [
    "# Target university\n",
    "target_university = \"University of Brighton|United Kingdom\"\n",
    "\n",
    "\n",
    "# Build the endpoint URL\n",
    "target_url = ('https://maps.googleapis.com/maps/api/geocode/json?'\n",
    "    'address={0}&key={1}').format(target_university, g_key)\n",
    "\n",
    "# print('---')\n",
    "# print(target_url)\n",
    "# print('---')\n",
    "\n",
    "geo_data = requests.get(target_url).json()\n",
    "\n",
    "# Print the json\n",
    "print(geo_data)"
   ]
  },
  {
   "cell_type": "code",
   "execution_count": null,
   "metadata": {},
   "outputs": [],
   "source": [
    "# Test the entries for the JSON\n",
    "lat = geo_data[\"results\"][0][\"geometry\"][\"location\"][\"lat\"]\n",
    "lng = geo_data[\"results\"][0][\"geometry\"][\"location\"][\"lng\"]\n",
    "\n",
    "print(lat, lng)"
   ]
  },
  {
   "cell_type": "code",
   "execution_count": null,
   "metadata": {},
   "outputs": [],
   "source": [
    "# Let's make it recursive\n",
    "count_ok = 0\n",
    "count_nok = 0\n",
    "total_universities = len(universities_df[\"ranking\"])\n",
    "\n",
    "for index, row in universities_df.iterrows():\n",
    "    # get the name of the university\n",
    "    target_university = row[\"title\"] + \"|\" + row[\"location\"]\n",
    "\n",
    "    # Use the search term: \"International Airport\" and our lat/lng\n",
    "    base_url = ('https://maps.googleapis.com/maps/api/geocode/json?'\n",
    "    'address={0}&key={1}').format(target_university, g_key)\n",
    "\n",
    "    # make request\n",
    "    geo_data = requests.get(base_url)\n",
    "    \n",
    "\n",
    "    # convert to json\n",
    "    geo_data = geo_data.json()\n",
    "    \n",
    "    clear_output(wait=True)\n",
    "    \n",
    "    # Since some data may be missing we incorporate a try-except to skip any that are missing a data point.\n",
    "    try:\n",
    "        #Lets print a mesage\n",
    "        print(f'Iteration {count_ok + count_nok +1} of {total_universities} - running . . .')\n",
    "        print(f'Looking for', target_university, '...')\n",
    "        \n",
    "        universities_df.loc[index, \"latitude\"] = geo_data[\"results\"][0][\"geometry\"][\"location\"][\"lat\"]\n",
    "        universities_df.loc[index, \"longitude\"] = geo_data[\"results\"][0][\"geometry\"][\"location\"][\"lng\"]\n",
    "        time.sleep(1)\n",
    "        \n",
    "        count_ok += 1\n",
    "        \n",
    "    except (KeyError, IndexError):\n",
    "        #Lets print a mesage\n",
    "        print(\"Missing field/result... skipping.\")\n",
    "        \n",
    "        universities_df.loc[index, \"latitude\"] = universities_df.loc[index, 'latitude'] = np.nan\n",
    "        universities_df.loc[index, \"longitude\"] = universities_df.loc[index, 'longitude'] = np.nan\n",
    "        \n",
    "        count_nok += 1\n",
    "        \n",
    "    test = test + 1\n",
    "       \n",
    "print(\"------------\")\n",
    "print('We are Done!')\n",
    "print(f\"We've searched for {total_universities} universities and we've got \\n{count_ok} successful responses and \\n{count_nok} unsuccessful responses\")\n",
    "print(\"------------\")"
   ]
  },
  {
   "cell_type": "code",
   "execution_count": null,
   "metadata": {},
   "outputs": [],
   "source": [
    "universities_df"
   ]
  },
  {
   "cell_type": "markdown",
   "metadata": {},
   "source": [
    "## 6. Append Continent info"
   ]
  },
  {
   "cell_type": "code",
   "execution_count": null,
   "metadata": {},
   "outputs": [],
   "source": [
    "continent_df = pd.read_csv(\"../csv files/universities_continent.csv\")\n",
    "continent_df.head()"
   ]
  },
  {
   "cell_type": "code",
   "execution_count": null,
   "metadata": {},
   "outputs": [],
   "source": [
    "# Concatenate Dataframes\n",
    "universities_full_df = pd.merge(continent_df, universities_df, on='ranking', how='inner')\n",
    "universities_full_df.drop(['title_y', 'location_y'], axis=1, inplace=True)\n",
    "universities_full_df.rename(columns={'title_x' : 'title', 'location_x' : 'location'}, inplace=True)\n",
    "universities_full_df"
   ]
  },
  {
   "cell_type": "markdown",
   "metadata": {},
   "source": [
    "## 7. Generate Final CSV File"
   ]
  },
  {
   "cell_type": "code",
   "execution_count": null,
   "metadata": {},
   "outputs": [],
   "source": [
    "universities_full_df= universities_full_df.astype(\n",
    "    {\n",
    "        \"number_students\": float, \n",
    "        \"students_staff_ratio\": float,\n",
    "        \"overall_score\": str,        \n",
    "        \"teaching_score\": float,       \n",
    "        \"research_score\" : float,      \n",
    "        \"citations_score\"  : float,    \n",
    "        \"industry_income_score\": float,\n",
    "        \"intl_outlook_score\"  : float,\n",
    "        \"latitude\" : float,\n",
    "        \"longitude\" : float\n",
    "    }\n",
    ")\n"
   ]
  },
  {
   "cell_type": "code",
   "execution_count": null,
   "metadata": {
    "scrolled": true
   },
   "outputs": [],
   "source": [
    "universities_full_df.dtypes"
   ]
  },
  {
   "cell_type": "code",
   "execution_count": null,
   "metadata": {},
   "outputs": [],
   "source": [
    "# To CSV\n",
    "universities_full_df.to_csv('../csv files/universities_rank_score.csv', header=True, encoding='utf-8-sig')"
   ]
  },
  {
   "cell_type": "markdown",
   "metadata": {},
   "source": [
    "## 6. Creating the SQLite"
   ]
  },
  {
   "cell_type": "code",
   "execution_count": null,
   "metadata": {},
   "outputs": [],
   "source": [
    "conn = sqlite3.connect('../universities.sqlite')\n",
    "c = conn.cursor()"
   ]
  },
  {
   "cell_type": "code",
   "execution_count": null,
   "metadata": {},
   "outputs": [],
   "source": [
    "c.execute(\"DROP TABLE IF EXISTS universities_ranking\")\n",
    "conn.commit()"
   ]
  },
  {
   "cell_type": "code",
   "execution_count": null,
   "metadata": {},
   "outputs": [],
   "source": [
    "c.execute(\"DROP TABLE IF EXISTS pd_universities_ranking\")\n",
    "conn.commit()"
   ]
  },
  {
   "cell_type": "code",
   "execution_count": null,
   "metadata": {},
   "outputs": [],
   "source": [
    "# Create table\n",
    "c.execute(\n",
    "    \"\"\"\n",
    "    CREATE TABLE universities_ranking (\n",
    "    ranking INTEGER NOT NULL PRIMARY KEY,\n",
    "    title TEXT,\n",
    "    location TEXT,\n",
    "    continent TEXT,\n",
    "    number_students REAL,\n",
    "    students_staff_ratio TEXT,\n",
    "    perc_intl_students TEXT,\n",
    "    gender_ratio TEXT,\n",
    "    overall_score REAL,\n",
    "    teaching_score REAL,\n",
    "    research_score REAL,\n",
    "    citations_score REAL,\n",
    "    industry_income_score REAL,\n",
    "    intl_outlook_score REAL,\n",
    "    latitude REAL,\n",
    "    longitude REAL\n",
    "    )\"\"\")\n",
    "\n",
    "conn.commit()"
   ]
  },
  {
   "cell_type": "code",
   "execution_count": null,
   "metadata": {},
   "outputs": [],
   "source": [
    "# Create table\n",
    "c.execute(\n",
    "    \"\"\"\n",
    "    CREATE TABLE pd_universities_ranking (\n",
    "    ranking INTEGER NOT NULL PRIMARY KEY,\n",
    "    title TEXT,\n",
    "    location TEXT,\n",
    "    continent TEXT,\n",
    "    number_students REAL,\n",
    "    students_staff_ratio TEXT,\n",
    "    perc_intl_students TEXT,\n",
    "    gender_ratio TEXT,\n",
    "    overall_score REAL,\n",
    "    teaching_score REAL,\n",
    "    research_score REAL,\n",
    "    citations_score REAL,\n",
    "    industry_income_score REAL,\n",
    "    intl_outlook_score REAL,\n",
    "    latitude REAL,\n",
    "    longitude REAL\n",
    "    )\"\"\")\n",
    "\n",
    "conn.commit()"
   ]
  },
  {
   "cell_type": "code",
   "execution_count": null,
   "metadata": {},
   "outputs": [],
   "source": [
    "universities_full_df.to_sql('pd_universities_ranking', conn, if_exists='replace', index = False)"
   ]
  },
  {
   "cell_type": "code",
   "execution_count": null,
   "metadata": {},
   "outputs": [],
   "source": [
    "c.execute(\"\"\"\n",
    "INSERT INTO universities_ranking SELECT * FROM pd_universities_ranking;\n",
    "\"\"\")\n",
    "conn.commit()"
   ]
  },
  {
   "cell_type": "code",
   "execution_count": null,
   "metadata": {},
   "outputs": [],
   "source": [
    "c.execute(\"\"\"\n",
    "DROP TABLE pd_universities_ranking;\n",
    "\"\"\")\n",
    "conn.commit()"
   ]
  },
  {
   "cell_type": "code",
   "execution_count": null,
   "metadata": {},
   "outputs": [],
   "source": [
    "c.execute(\"SELECT * FROM universities_ranking\")"
   ]
  },
  {
   "cell_type": "code",
   "execution_count": null,
   "metadata": {
    "scrolled": true
   },
   "outputs": [],
   "source": [
    "print(*c.fetchmany(10), sep = \"\\n\")"
   ]
  },
  {
   "cell_type": "code",
   "execution_count": null,
   "metadata": {},
   "outputs": [],
   "source": [
    "conn.close()"
   ]
  },
  {
   "cell_type": "code",
   "execution_count": null,
   "metadata": {},
   "outputs": [],
   "source": []
  }
 ],
 "metadata": {
  "kernelspec": {
   "display_name": "Python 3",
   "language": "python",
   "name": "python3"
  },
  "language_info": {
   "codemirror_mode": {
    "name": "ipython",
    "version": 3
   },
   "file_extension": ".py",
   "mimetype": "text/x-python",
   "name": "python",
   "nbconvert_exporter": "python",
   "pygments_lexer": "ipython3",
   "version": "3.9.0"
  }
 },
 "nbformat": 4,
 "nbformat_minor": 4
}
